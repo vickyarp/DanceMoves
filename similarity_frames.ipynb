{
 "cells": [
  {
   "cell_type": "code",
   "execution_count": 98,
   "metadata": {},
   "outputs": [],
   "source": [
    "import json \n",
    "import numpy as np\n",
    "from sklearn.metrics.pairwise import cosine_similarity\n",
    "import pandas as pd\n",
    "import cv2"
   ]
  },
  {
   "cell_type": "code",
   "execution_count": 99,
   "metadata": {},
   "outputs": [],
   "source": [
    "path_to_ballet1=\"C:\\\\Users\\\\user\\\\Desktop\\\\project\\\\1453169-20200914T174236Z-001\\\\TB_S\\\\TB_S_000000000005_keypoints.json\"\n",
    "path_to_ballet2=\"C:\\\\Users\\\\user\\\\Desktop\\\\project\\\\1453169-20200914T174236Z-001\\\\TB_S_FB\\\\TB_S_FB_000000000005_keypoints.json\"\n",
    "path_3=\"C:\\\\Users\\\\user\\\\Desktop\\\\project\\\\1453169-20200914T174236Z-001\\\\SYN_K\\\\SYN_K_000000000009_keypoints.json\""
   ]
  },
  {
   "cell_type": "code",
   "execution_count": 100,
   "metadata": {},
   "outputs": [],
   "source": [
    "f1=open(path_to_ballet1)\n",
    "f2=open(path_to_ballet2)\n",
    "f3=open(path_3)"
   ]
  },
  {
   "cell_type": "code",
   "execution_count": 101,
   "metadata": {},
   "outputs": [],
   "source": [
    "data_f1= json.load(f1)\n",
    "data_f2= json.load(f2)\n",
    "data_f3=json.load(f3)"
   ]
  },
  {
   "cell_type": "code",
   "execution_count": 102,
   "metadata": {},
   "outputs": [],
   "source": [
    "def read_keypoints(data):\n",
    "    people_column=data['people']\n",
    "    for d in people_column:\n",
    "        keypoints=(d[\"pose_keypoints_2d\"])\n",
    "    return keypoints  \n",
    "\n",
    "\n",
    "def remove_confidence_interval(data):\n",
    "\n",
    "    j=2\n",
    "    keypoints=read_keypoints(data)\n",
    "    keypoints_woconfidence=keypoints.copy()\n",
    "    while j<=len(keypoints_woconfidence):\n",
    "        keypoints_woconfidence.pop(j)\n",
    "        j+=2\n",
    "    return keypoints_woconfidence\n",
    "\n",
    "def remove_zeros_fromall(data1,data2):\n",
    "    \n",
    "    \n",
    "    XY1_vector=remove_confidence_interval(data1)\n",
    "\n",
    "    XY2_vector=remove_confidence_interval(data2)\n",
    "\n",
    "    data = {'frame1': XY1_vector, \n",
    "            'frame2': XY2_vector}\n",
    "    df = pd.DataFrame(data)\n",
    "    df=df[df.frame1!=0]\n",
    "    df=df[df.frame2!=0] \n",
    "    frame1=df['frame1'].to_numpy()\n",
    "    frame2=df['frame2'].to_numpy()\n",
    "    return frame1,frame2"
   ]
  },
  {
   "cell_type": "code",
   "execution_count": 103,
   "metadata": {},
   "outputs": [
    {
     "data": {
      "text/plain": [
       "{'version': 1.3,\n",
       " 'people': [{'person_id': [-1],\n",
       "   'pose_keypoints_2d': [214.341,\n",
       "    63.312,\n",
       "    0.902298,\n",
       "    220.31,\n",
       "    101.339,\n",
       "    0.95302,\n",
       "    196.344,\n",
       "    101.343,\n",
       "    0.870564,\n",
       "    164.293,\n",
       "    131.309,\n",
       "    0.859177,\n",
       "    168.338,\n",
       "    140.317,\n",
       "    0.702319,\n",
       "    243.343,\n",
       "    100.356,\n",
       "    0.880465,\n",
       "    266.316,\n",
       "    120.301,\n",
       "    0.86968,\n",
       "    292.302,\n",
       "    126.31,\n",
       "    0.705414,\n",
       "    220.312,\n",
       "    179.301,\n",
       "    0.749332,\n",
       "    205.34,\n",
       "    179.317,\n",
       "    0.716647,\n",
       "    215.315,\n",
       "    245.341,\n",
       "    0.746386,\n",
       "    217.319,\n",
       "    309.328,\n",
       "    0.681233,\n",
       "    234.345,\n",
       "    179.299,\n",
       "    0.707742,\n",
       "    224.341,\n",
       "    246.323,\n",
       "    0.745144,\n",
       "    221.353,\n",
       "    313.31,\n",
       "    0.725757,\n",
       "    211.281,\n",
       "    59.2967,\n",
       "    0.946076,\n",
       "    220.323,\n",
       "    58.3423,\n",
       "    0.962496,\n",
       "    205.317,\n",
       "    64.3315,\n",
       "    0.276184,\n",
       "    230.35,\n",
       "    63.3083,\n",
       "    0.886045,\n",
       "    201.31,\n",
       "    323.298,\n",
       "    0.573108,\n",
       "    206.33,\n",
       "    324.308,\n",
       "    0.540061,\n",
       "    226.339,\n",
       "    319.329,\n",
       "    0.681732,\n",
       "    198.309,\n",
       "    322.332,\n",
       "    0.47191,\n",
       "    198.334,\n",
       "    319.315,\n",
       "    0.440864,\n",
       "    222.334,\n",
       "    317.302,\n",
       "    0.27531],\n",
       "   'face_keypoints_2d': [],\n",
       "   'hand_left_keypoints_2d': [],\n",
       "   'hand_right_keypoints_2d': [],\n",
       "   'pose_keypoints_3d': [],\n",
       "   'face_keypoints_3d': [],\n",
       "   'hand_left_keypoints_3d': [],\n",
       "   'hand_right_keypoints_3d': []}]}"
      ]
     },
     "execution_count": 103,
     "metadata": {},
     "output_type": "execute_result"
    }
   ],
   "source": [
    "data_f1"
   ]
  },
  {
   "cell_type": "code",
   "execution_count": 104,
   "metadata": {},
   "outputs": [
    {
     "data": {
      "text/plain": [
       "(array([214.341 ,  63.312 , 220.31  , 101.339 , 196.344 , 101.343 ,\n",
       "        164.293 , 131.309 , 168.338 , 140.317 , 243.343 , 100.356 ,\n",
       "        266.316 , 120.301 , 292.302 , 126.31  , 220.312 , 179.301 ,\n",
       "        205.34  , 179.317 , 215.315 , 245.341 , 217.319 , 309.328 ,\n",
       "        234.345 , 179.299 , 224.341 , 246.323 , 221.353 , 313.31  ,\n",
       "        211.281 ,  59.2967, 220.323 ,  58.3423, 205.317 ,  64.3315,\n",
       "        230.35  ,  63.3083, 201.31  , 323.298 , 206.33  , 324.308 ,\n",
       "        226.339 , 319.329 , 198.309 , 322.332 , 222.334 , 317.302 ]),\n",
       " array([240.256, 152.226, 271.273, 164.223, 275.23 , 184.252, 277.266,\n",
       "        229.249, 276.22 , 269.241, 270.23 , 147.225, 244.27 , 185.28 ,\n",
       "        215.237, 207.245, 337.262, 205.25 , 326.283, 213.279, 323.255,\n",
       "        275.24 , 376.242, 271.263, 347.259, 196.274, 389.233, 239.231,\n",
       "        453.254, 266.265, 235.231, 154.222, 239.261, 145.253, 237.231,\n",
       "        162.257, 248.254, 139.271, 484.272, 282.242, 485.241, 278.279,\n",
       "        458.252, 267.243, 382.346, 276.266, 386.256, 266.257]))"
      ]
     },
     "execution_count": 104,
     "metadata": {},
     "output_type": "execute_result"
    }
   ],
   "source": [
    "remove_zeros_fromall(data_f1,data_f3)"
   ]
  },
  {
   "cell_type": "code",
   "execution_count": 105,
   "metadata": {},
   "outputs": [],
   "source": [
    "def similarity_between_2frames(data1,data2):\n",
    "    XY1_vector,XY2_vector=remove_zeros_fromall(data1,data2)    \n",
    "\n",
    "    #since they are 1d\n",
    "    #XY1_vector.reshape(1,-1)\n",
    "    #XY2_vector.reshape(1,-1)\n",
    "\n",
    "\n",
    "    similarity_X=cosine_similarity(XY1_vector.reshape(1,-1),XY2_vector.reshape(1,-1))\n",
    "\n",
    "    print(\"Similarity for XY between two frames is:\", similarity_X)"
   ]
  },
  {
   "cell_type": "code",
   "execution_count": 106,
   "metadata": {},
   "outputs": [
    {
     "name": "stdout",
     "output_type": "stream",
     "text": [
      "Similarity for XY between two frames is: [[0.94025011]]\n"
     ]
    }
   ],
   "source": [
    "similarity_between_2frames(data_f1,data_f3)"
   ]
  },
  {
   "cell_type": "markdown",
   "metadata": {},
   "source": [
    "# Similarity per bodypart"
   ]
  },
  {
   "cell_type": "markdown",
   "metadata": {},
   "source": [
    "Define the bodyparts"
   ]
  },
  {
   "cell_type": "code",
   "execution_count": 107,
   "metadata": {},
   "outputs": [],
   "source": [
    "def create_y_coordicate(data):\n",
    "    df=remove_confidence_interval(data)\n",
    "    df=np.array(df)\n",
    "    mask = np.ones(df.size, dtype=bool)\n",
    "    mask[1::2] = 0\n",
    "    points = df[mask]\n",
    "    y=points.tolist()\n",
    "    return y\n",
    "\n",
    "def create_x_coordicate(data):\n",
    "    df=remove_confidence_interval(data)\n",
    "    df=np.array(df)\n",
    "    mask = np.zeros(df.size, dtype=bool)\n",
    "    mask[1::2] = 1\n",
    "    points = df[mask]\n",
    "    x=points.tolist()\n",
    "    return x\n",
    "\n",
    "def bodyparts(data):        \n",
    "    \n",
    "    # //     {0,  \"Nose\"}, \n",
    "    # //     {1,  \"Neck\"},\n",
    "    # //     {2,  \"RShoulder\"},\n",
    "    # //     {3,  \"RElbow\"},\n",
    "    # //     {4,  \"RWrist\"},\n",
    "    # //     {5,  \"LShoulder\"},\n",
    "    # //     {6,  \"LElbow\"},\n",
    "    # //     {7,  \"LWrist\"},\n",
    "    # //     {8,  \"MidHip\"},\n",
    "    # //     {9,  \"RHip\"},\n",
    "    # //     {10, \"RKnee\"},\n",
    "    # //     {11, \"RAnkle\"},\n",
    "    # //     {12, \"LHip\"},\n",
    "    # //     {13, \"LKnee\"},\n",
    "    # //     {14, \"LAnkle\"},\n",
    "    # //     {15, \"REye\"},\n",
    "    # //     {16, \"LEye\"},\n",
    "    # //     {17, \"REar\"},\n",
    "    # //     {18, \"LEar\"},\n",
    "    # //     {19, \"LBigToe\"},\n",
    "    # //     {20, \"LSmallToe\"},\n",
    "    # //     {21, \"LHeel\"},\n",
    "    # //     {22, \"RBigToe\"},\n",
    "    # //     {23, \"RSmallToe\"},\n",
    "    # //     {24, \"RHeel\"},\n",
    "    # //     {25, \"Background\"}    \n",
    "    \n",
    "    x=create_x_coordicate(data)\n",
    "    y=create_y_coordicate(data)\n",
    "    \n",
    "\n",
    "    nose_to_neck=(x[0]-x[1]),(y[0]-y[1])\n",
    "    \n",
    "    right_eye_to_nose=(x[0]-x[15]),(y[0]-y[15])\n",
    "    \n",
    "    right_ear_to_eye=(x[15]-x[17]),(y[15]-y[17])\n",
    "    left_eye_to_nose=(x[0]-x[16]),(y[0]-y[16])\n",
    "    left_ear_to_eye=(x[16]-x[18]),(y[16]-y[18])\n",
    "    \n",
    "    torso= (x[1]-x[8]),(y[1]-y[8])\n",
    "    \n",
    "    \n",
    "    right_shoulder=(x[1]-x[2]),(y[1]-y[2])\n",
    "    left_shoulder=(x[1]-x[5]),(y[1]-y[5])\n",
    "    \n",
    "    right_upper_arm=(x[2]-x[3]),(y[2]-y[3])\n",
    "    right_lower_arm=(x[3]-x[4]),(y[3]-y[4])\n",
    "    left_upper_arm=(x[5]-x[6]),(y[5]-y[6])\n",
    "    left_lower_arm=(x[6]-x[7]),(y[6]-y[7])\n",
    "    \n",
    "    right_hip=(x[8]-x[9]),(y[8]-y[9])\n",
    "    right_upper_leg=(x[9]-x[10]),(y[9]-y[10])\n",
    "    right_lower_leg=(x[10]-x[11]),(y[10]-y[11])\n",
    "    left_hip=(x[8]-x[12]),(y[8]-y[12])\n",
    "    left_upper_leg=(x[12]-x[13]),(y[12]-y[13])\n",
    "    left_lower_leg=(x[13]-x[14]),(y[13]-y[14])\n",
    "    \n",
    "    left_foot=(x[14]-x[19]),(y[14]-y[19])\n",
    "    left_toes=(x[19]-x[20]),(y[19]-y[20])\n",
    "    left_ankle_to_heel=(x[14]-x[21]),(y[14]-y[21]) \n",
    "    right_foot=(x[11]-x[22]),(y[11]-y[22])\n",
    "    right_toes=(x[22]-x[23]),(y[22]-y[23])\n",
    "    right_ankle_to_heel=(x[11]-x[24]),(y[11]-y[24])\n",
    "    \n",
    "    body_vector=np.array([nose_to_neck, left_eye_to_nose ,left_ear_to_eye, right_eye_to_nose,right_ear_to_eye, torso,left_shoulder, right_shoulder,right_upper_arm ,right_lower_arm ,left_upper_arm ,left_lower_arm,left_hip ,left_upper_leg ,left_lower_leg ,right_hip ,right_upper_leg,right_lower_leg,right_foot ,right_toes ,right_ankle_to_heel ,left_foot ,left_toes ,left_ankle_to_heel])\n",
    "    return body_vector"
   ]
  },
  {
   "cell_type": "code",
   "execution_count": 108,
   "metadata": {},
   "outputs": [],
   "source": [
    "def similarity_bodyparts(data1,data2):\n",
    "    #computes the similarity for every stick vector in the figures in one frame. \n",
    "    #I compute all the stick vectors per figure and then I do a pairwise comparison \n",
    "    #(also with cosine measure). \n",
    "    #I take the average of all similarities to come up with an overall similarity.\n",
    "    bodyvector1=bodyparts(data1)\n",
    "    bodyvector2=bodyparts(data2)\n",
    "    cos_vector=np.array([])\n",
    "    for i in range(len(bodyvector1)):\n",
    "        a=cosine_similarity(bodyvector1[i].reshape(1,-1),bodyvector2[i].reshape(1,-1))\n",
    "        #delete arrays with zeros\n",
    "        if a != (np.array([0])):\n",
    "            cos_vector=np.append(cos_vector,a )\n",
    "        \n",
    "    return round(np.mean(cos_vector),3) "
   ]
  },
  {
   "cell_type": "code",
   "execution_count": 109,
   "metadata": {},
   "outputs": [
    {
     "data": {
      "text/plain": [
       "0.282"
      ]
     },
     "execution_count": 109,
     "metadata": {},
     "output_type": "execute_result"
    }
   ],
   "source": [
    "similarity_bodyparts(data_f2,data_f1)"
   ]
  },
  {
   "cell_type": "markdown",
   "metadata": {},
   "source": [
    "Angle Similarity"
   ]
  },
  {
   "cell_type": "code",
   "execution_count": null,
   "metadata": {},
   "outputs": [],
   "source": []
  },
  {
   "cell_type": "code",
   "execution_count": 110,
   "metadata": {},
   "outputs": [],
   "source": [
    "#produces RunitmeWarning for division with zero\n",
    "np.seterr(divide='ignore', invalid='ignore')\n",
    "\n",
    "#for every neighbor vectors compute angles\n",
    "def compute_angle_in_degrees(vector1,vector2):   \n",
    "    unit_vector_1 = vector1/ np.linalg.norm(vector1)\n",
    "    unit_vector_2 = vector2/ np.linalg.norm(vector2)\n",
    "    dot_product = np.dot(unit_vector_1, unit_vector_2)\n",
    "    angle = np.arccos(dot_product)\n",
    "    return degree(angle)\n",
    "\n",
    "\n",
    "def compute_angle(vector1,vector2):   \n",
    "    unit_vector_1 = vector1/ np.linalg.norm(vector1)\n",
    "    unit_vector_2 = vector2/ np.linalg.norm(vector2)\n",
    "    dot_product = np.dot(unit_vector_1, unit_vector_2)\n",
    "    angle = np.arccos(dot_product)\n",
    "    if np.isnan(angle):\n",
    "        return 0\n",
    "    else:\n",
    "        return math.cos(angle)"
   ]
  },
  {
   "cell_type": "code",
   "execution_count": 111,
   "metadata": {},
   "outputs": [],
   "source": [
    "#create a vector with all angles\n",
    "def compute_angle_vector(data):\n",
    "    x=create_x_coordicate(data)\n",
    "    y=create_y_coordicate(data)\n",
    "    \n",
    "    nose_to_neck=(x[0]-x[1]),(y[0]-y[1])\n",
    "    \n",
    "    right_shoulder=(x[1]-x[2]),(y[1]-y[2])\n",
    "    left_shoulder=(x[1]-x[5]),(y[1]-y[5])\n",
    "      \n",
    "    angle_nose_to_neck_to_left_shoulder=compute_angle(nose_to_neck,left_shoulder)\n",
    "    angle_nose_to_neck_to_right_shoulder=compute_angle(nose_to_neck,right_shoulder)\n",
    "    angle_left_shoulder_to_right_shoulder=compute_angle(left_shoulder,right_shoulder)\n",
    "    \n",
    "    left_upper_arm=(x[5]-x[6]),(y[5]-y[6])\n",
    "    angle_left_shoulder_to_left_upper_arm=compute_angle(left_upper_arm,left_shoulder)\n",
    "    \n",
    "    left_lower_arm=(x[6]-x[7]),(y[6]-y[7])\n",
    "    angle_left_lower_arm_to_left_upper_arm=compute_angle(left_upper_arm,left_lower_arm)\n",
    "    \n",
    "    right_upper_arm=(x[2]-x[3]),(y[2]-y[3])\n",
    "    angle_right_upper_arm_to_right_shoulder=compute_angle(right_upper_arm,right_shoulder)\n",
    "    \n",
    "    right_lower_arm=(x[3]-x[4]),(y[3]-y[4])\n",
    "    angle_right_upper_arm_to_right_lower_arm=compute_angle(right_upper_arm,right_lower_arm)\n",
    "    \n",
    "    left_eye_to_nose=(x[0]-x[16]),(y[0]-y[16])\n",
    "    left_ear_to_eye=(x[16]-x[18]),(y[16]-y[18])\n",
    "    \n",
    "    angle_left_eye_to_nose_to_left_ear_to_eye=compute_angle(left_eye_to_nose,left_ear_to_eye)\n",
    "    \n",
    "    angle_left_eye_to_nose_to_neck=compute_angle(left_eye_to_nose,nose_to_neck)\n",
    "\n",
    "    right_eye_to_nose=(x[0]-x[15]),(y[0]-y[15])\n",
    "    right_ear_to_eye=(x[15]-x[17]),(y[15]-y[17])\n",
    "\n",
    "    angle_nose_to_neck_to_right_eye_to_nose=compute_angle(nose_to_neck,right_eye_to_nose)  \n",
    "    angle_left_eye_to_nose_to_rigt_ear_to_eye=compute_angle(left_eye_to_nose,right_ear_to_eye)\n",
    "    \n",
    "    angle_right_eye_to_nose_to_right_ear_to_eye=compute_angle(right_eye_to_nose,right_ear_to_eye)\n",
    "\n",
    "    right_hip=(x[8]-x[9]),(y[8]-y[9])\n",
    "    right_upper_leg=(x[9]-x[10]),(y[9]-y[10])\n",
    "    \n",
    "    angle_right_hip_to_right_upper_leg=compute_angle(right_hip,right_upper_leg)\n",
    "    \n",
    "    right_lower_leg=(x[10]-x[11]),(y[10]-y[11])\n",
    "        \n",
    "    angle_right_upper_leg_to_right_lower_leg=compute_angle(right_upper_leg,right_lower_leg)    \n",
    "    \n",
    "    left_hip=(x[8]-x[12]),(y[8]-y[12])\n",
    "    left_upper_leg=(x[12]-x[13]),(y[12]-y[13])\n",
    "    \n",
    "    angle_left_hip_to_left_upper_leg=compute_angle(left_hip,left_upper_leg)\n",
    "    \n",
    "    left_lower_leg=(x[13]-x[14]),(y[13]-y[14])\n",
    "    \n",
    "    angle_left_upper_leg_to_left_lower_leg=compute_angle(left_upper_leg,left_lower_leg)\n",
    "    \n",
    "    left_ankle_to_heel=(x[14]-x[21]),(y[14]-y[21]) \n",
    "    \n",
    "    angle_left_lower_leg_left_ankle_to_heel=compute_angle(left_lower_leg,left_ankle_to_heel)\n",
    "    \n",
    "    right_ankle_to_heel=(x[11]-x[24]),(y[11]-y[24])\n",
    "    \n",
    "    angle_right_lower_leg_to_right_ankle_to_heel=compute_angle(right_lower_leg,right_ankle_to_heel)\n",
    "    \n",
    "    right_toes=(x[22]-x[23]),(y[22]-y[23])\n",
    "    right_foot=(x[11]-x[22]),(y[11]-y[22])\n",
    "    \n",
    "    angle_right_foot_to_right_toes=compute_angle(right_foot,right_toes)\n",
    "    angle_right_foot_to_right_lower_leg=compute_angle(right_foot,right_lower_leg)\n",
    "    angle_right_foot_to_right_ankle_to_heel=compute_angle(right_foot,right_ankle_to_heel)\n",
    "    \n",
    "    left_foot=(x[14]-x[19]),(y[14]-y[19])\n",
    "    left_toes=(x[19]-x[20]),(y[19]-y[20])\n",
    "    \n",
    "    angle_left_foot_to_left_lower_leg=compute_angle(left_foot, left_lower_leg)\n",
    "    angle_left_foot_to_left_ankle_to_heel=compute_angle(left_foot, left_ankle_to_heel)\n",
    "    angle_left_foot_to_left_toes=compute_angle(left_foot,left_toes)\n",
    "    \n",
    "    torso= (x[1]-x[8]),(y[1]-y[8])\n",
    "    \n",
    "    angle_torso_to_right_shoulder=compute_angle(torso,right_shoulder)\n",
    "    angle_torso_to_left_shoulder=compute_angle(torso,left_shoulder)\n",
    "    angle_torso_to_nose_to_neck=compute_angle(torso,nose_to_neck)\n",
    "    \n",
    "    angle_torso_to_right_hip=compute_angle(torso,right_hip)\n",
    "    angle_torso_to_left_hip=compute_angle(torso,left_hip)\n",
    "    \n",
    "    \n",
    "    body_vector=np.array([angle_nose_to_neck_to_left_shoulder,angle_nose_to_neck_to_right_shoulder,angle_left_shoulder_to_right_shoulder, angle_left_shoulder_to_left_upper_arm,angle_left_lower_arm_to_left_upper_arm,angle_right_upper_arm_to_right_shoulder,angle_right_upper_arm_to_right_lower_arm, angle_left_eye_to_nose_to_left_ear_to_eye, angle_left_eye_to_nose_to_neck,angle_nose_to_neck_to_right_eye_to_nose, angle_left_eye_to_nose_to_rigt_ear_to_eye, angle_right_eye_to_nose_to_right_ear_to_eye,angle_right_hip_to_right_upper_leg,angle_right_upper_leg_to_right_lower_leg, angle_left_hip_to_left_upper_leg,angle_left_upper_leg_to_left_lower_leg,angle_left_lower_leg_left_ankle_to_heel, angle_right_lower_leg_to_right_ankle_to_heel, angle_right_foot_to_right_toes, angle_right_foot_to_right_lower_leg, angle_right_foot_to_right_ankle_to_heel, angle_left_foot_to_left_lower_leg,  angle_left_foot_to_left_ankle_to_heel,  angle_left_foot_to_left_toes ,angle_torso_to_right_shoulder ,angle_torso_to_left_shoulder , angle_torso_to_nose_to_neck, angle_torso_to_right_hip ,angle_torso_to_left_hip  ])\n",
    "    #print(body_vector)\n",
    "    return body_vector"
   ]
  },
  {
   "cell_type": "code",
   "execution_count": 112,
   "metadata": {},
   "outputs": [
    {
     "data": {
      "text/plain": [
       "array([-0.90406357,  0.93943514, -0.99578982,  0.95215565,  0.9757783 ,\n",
       "        0.63630612,  0.15714254,  0.        ,  0.        ,  0.        ,\n",
       "        0.        ,  0.        , -0.10809707,  0.99919501,  0.00477033,\n",
       "        0.99066041,  0.83390169,  0.70450453, -0.96440893,  0.62167101,\n",
       "       -0.11792229,  0.04800248, -0.51124743, -0.75234669,  0.10634576,\n",
       "       -0.01475191,  0.44068817,  0.01228135,  0.05281341])"
      ]
     },
     "execution_count": 112,
     "metadata": {},
     "output_type": "execute_result"
    }
   ],
   "source": [
    "compute_angle_vector(data_f2)"
   ]
  },
  {
   "cell_type": "code",
   "execution_count": 113,
   "metadata": {},
   "outputs": [
    {
     "data": {
      "text/plain": [
       "False"
      ]
     },
     "execution_count": 113,
     "metadata": {},
     "output_type": "execute_result"
    }
   ],
   "source": [
    "np.isnan(compute_angle_vector(data_f2)[8])"
   ]
  },
  {
   "cell_type": "code",
   "execution_count": 114,
   "metadata": {},
   "outputs": [],
   "source": [
    "from scipy.spatial import distance\n",
    "from scipy.spatial.distance import cdist\n",
    "    \n",
    "def similarity_bodyparts_with_angles(data1,data2):\n",
    "    bodyvector1=compute_angle_vector(data1)\n",
    "    bodyvector2=compute_angle_vector(data2)\n",
    "    \n",
    "    bodyvector1= bodyvector1.reshape(1,-1)\n",
    "    bodyvector2= bodyvector2.reshape(1,-1)\n",
    "    \n",
    "    return cosine_similarity(bodyvector1, bodyvector2)"
   ]
  },
  {
   "cell_type": "code",
   "execution_count": 115,
   "metadata": {},
   "outputs": [
    {
     "data": {
      "text/plain": [
       "array([[0.75114975]])"
      ]
     },
     "execution_count": 115,
     "metadata": {},
     "output_type": "execute_result"
    }
   ],
   "source": [
    "similarity_bodyparts_with_angles(data_f2,data_f1)"
   ]
  },
  {
   "cell_type": "code",
   "execution_count": null,
   "metadata": {},
   "outputs": [],
   "source": []
  }
 ],
 "metadata": {
  "kernelspec": {
   "display_name": "Python 3",
   "language": "python",
   "name": "python3"
  },
  "language_info": {
   "codemirror_mode": {
    "name": "ipython",
    "version": 3
   },
   "file_extension": ".py",
   "mimetype": "text/x-python",
   "name": "python",
   "nbconvert_exporter": "python",
   "pygments_lexer": "ipython3",
   "version": "3.7.6"
  }
 },
 "nbformat": 4,
 "nbformat_minor": 4
}
